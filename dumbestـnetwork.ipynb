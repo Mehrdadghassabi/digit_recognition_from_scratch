{
  "nbformat": 4,
  "nbformat_minor": 0,
  "metadata": {
    "colab": {
      "provenance": []
    },
    "kernelspec": {
      "name": "python3",
      "display_name": "Python 3"
    },
    "language_info": {
      "name": "python"
    }
  },
  "cells": [
    {
      "cell_type": "code",
      "execution_count": 1,
      "metadata": {
        "id": "4C2VuF0W699y"
      },
      "outputs": [],
      "source": [
        "from keras.datasets import mnist\n",
        "import numpy as np\n",
        "import cv2\n",
        "import math"
      ]
    },
    {
      "cell_type": "code",
      "source": [
        "def sigmoid(x):\n",
        "    return 1/(1+ math.exp(-x))"
      ],
      "metadata": {
        "id": "fi5FYszrFo2P"
      },
      "execution_count": 2,
      "outputs": []
    },
    {
      "cell_type": "code",
      "source": [
        "def init_randomly():\n",
        "    W = np.random.uniform(-1, 1, size=(10, 784))\n",
        "    B = np.random.random_sample((10,1))\n",
        "    return W,B"
      ],
      "metadata": {
        "id": "nun9T9Y5t_mf"
      },
      "execution_count": 3,
      "outputs": []
    },
    {
      "cell_type": "code",
      "source": [
        "def train(training_size,WT,B):\n",
        "    assert training_size <= 6000\n",
        "    for i in range(training_size):\n",
        "        # print(\"episode number: \"+ str(i))\n",
        "        A0 = train_X[i].flatten().reshape((-1, 1))\n",
        "        A0 = A0 / 255\n",
        "        A1 = np.vectorize(sigmoid)(np.matmul(WT,A0) + B)\n",
        "        yhat =  np.zeros((10, 1))\n",
        "        yhat[train_y[i]][0] = 1\n",
        "        cost = A1-yhat\n",
        "        activation_func_deriv = A1 - A1**2\n",
        "        r = 0.05\n",
        "        for j in range(10):\n",
        "            for k in range(784):\n",
        "                WT[j][k] = WT[j][k] - r * (A0[k]) * (activation_func_deriv [j]) * (cost[j])\n",
        "            B[j] = B[j] - r * (activation_func_deriv [j]) * (cost[j])\n",
        "    return WT,B"
      ],
      "metadata": {
        "id": "GLDHtpWeuua7"
      },
      "execution_count": 4,
      "outputs": []
    },
    {
      "cell_type": "code",
      "source": [
        "def model_accuracy(data_X,data_y,WT,B):\n",
        "    right_prediction = 0\n",
        "    for i in range(len(data_X)):\n",
        "        A0 = data_X[i].flatten().reshape((-1, 1))\n",
        "        A0 = A0 / 255\n",
        "        A1 = np.vectorize(sigmoid)(np.matmul(WT,A0) + B)\n",
        "        predicted_index = max_index = np.argmax(A1)\n",
        "        # print(\"label: \" + str(test_y[i]) + \"=========> \" + \"predicted_index: \"+ str(predicted_index))\n",
        "        if data_y[i] == predicted_index :\n",
        "           right_prediction = right_prediction + 1\n",
        "    return (right_prediction/len(data_X))*100"
      ],
      "metadata": {
        "id": "xp47pqmtXHRY"
      },
      "execution_count": 5,
      "outputs": []
    },
    {
      "cell_type": "code",
      "source": [
        "(train_X, train_y), (test_X, test_y) = mnist.load_data()\n",
        "WT,B = init_randomly()\n",
        "WT,B = train(6000,WT,B)\n",
        "train_data_acc = model_accuracy(train_X, train_y,WT,B)\n",
        "test_data_acc = model_accuracy(test_X, test_y,WT,B)\n",
        "print(train_data_acc)\n",
        "print(test_data_acc)"
      ],
      "metadata": {
        "colab": {
          "base_uri": "https://localhost:8080/"
        },
        "id": "HGItCGDO59ZS",
        "outputId": "7751be61-65fa-47f1-a497-0004bb16fa65"
      },
      "execution_count": 6,
      "outputs": [
        {
          "output_type": "stream",
          "name": "stdout",
          "text": [
            "51.26666666666667\n",
            "51.019999999999996\n"
          ]
        }
      ]
    }
  ]
}