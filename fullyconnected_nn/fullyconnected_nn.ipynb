{
  "nbformat": 4,
  "nbformat_minor": 0,
  "metadata": {
    "colab": {
      "provenance": []
    },
    "kernelspec": {
      "name": "python3",
      "display_name": "Python 3"
    },
    "language_info": {
      "name": "python"
    }
  },
  "cells": [
    {
      "cell_type": "code",
      "execution_count": 1,
      "metadata": {
        "id": "MyeVUTQwop6X"
      },
      "outputs": [],
      "source": [
        "from keras.datasets import mnist\n",
        "import numpy as np\n",
        "import matplotlib.pyplot as plt"
      ]
    },
    {
      "cell_type": "code",
      "source": [
        "def Softmax(x):\n",
        "    exps = np.exp(x - x.max())\n",
        "    return exps / np.sum(exps)"
      ],
      "metadata": {
        "id": "dZTy404NLkt8"
      },
      "execution_count": 2,
      "outputs": []
    },
    {
      "cell_type": "code",
      "source": [
        "def Relu(x):\n",
        "    return np.maximum(x, 0)"
      ],
      "metadata": {
        "id": "xEDZISG4U9Cf"
      },
      "execution_count": 3,
      "outputs": []
    },
    {
      "cell_type": "code",
      "source": [
        "def Relu_deriv(x):\n",
        "    return np.dot(((x > 0) * 1).T , ((x > 0) * 1))"
      ],
      "metadata": {
        "id": "U2YQA_PcU9pv"
      },
      "execution_count": 4,
      "outputs": []
    },
    {
      "cell_type": "code",
      "source": [
        "def Sigmoid(x):\n",
        "    return 1/(1+np.exp(-x))"
      ],
      "metadata": {
        "id": "5sWQhiNNays3"
      },
      "execution_count": 5,
      "outputs": []
    },
    {
      "cell_type": "code",
      "source": [
        "def Sigmoid_deriv(x):\n",
        "    return np.dot(Sigmoid(x).T,(1-Sigmoid(x)))"
      ],
      "metadata": {
        "id": "yjMbZRmBazaj"
      },
      "execution_count": 6,
      "outputs": []
    },
    {
      "cell_type": "code",
      "source": [
        "(train_x, train_y), (test_x, test_y) = mnist.load_data()"
      ],
      "metadata": {
        "id": "5HNjcAZcIaEz",
        "colab": {
          "base_uri": "https://localhost:8080/"
        },
        "outputId": "9e4ae85e-6b89-4bca-bc0a-b1a168ba1812"
      },
      "execution_count": 7,
      "outputs": [
        {
          "output_type": "stream",
          "name": "stdout",
          "text": [
            "Downloading data from https://storage.googleapis.com/tensorflow/tf-keras-datasets/mnist.npz\n",
            "11490434/11490434 [==============================] - 1s 0us/step\n"
          ]
        }
      ]
    },
    {
      "cell_type": "code",
      "source": [
        "def accuracy(test_x,test_y,nunt):\n",
        "    count = 0\n",
        "    sum = 0\n",
        "    labeld_wrongly = []\n",
        "    labeld_right = []\n",
        "    for i in range(len(test_x)):\n",
        "        count +=1\n",
        "        A0 = test_x[i].flatten().reshape((-1, 1))\n",
        "        A0 = A0 / 255\n",
        "        arr = nunt.feed_forward(A0)\n",
        "        if  np.argmax(arr[0]) == test_y[i]:\n",
        "            sum +=1\n",
        "    return sum/count"
      ],
      "metadata": {
        "id": "qyXFnxcnH5Xl"
      },
      "execution_count": 8,
      "outputs": []
    },
    {
      "cell_type": "code",
      "source": [
        "class nn1:\n",
        "  def __init__(self, sizes):\n",
        "    self.sizes = sizes\n",
        "    self.weights = [np.random.uniform(-2, 2,size=(sizes[i-1], sizes[i]))\n",
        "     for i in range(1, len(self.sizes))]\n",
        "    self.biases = [np.random.uniform(-2, 2,size=(sizes[i],1))\n",
        "     for i in range(1, len(self.sizes))]\n",
        "\n",
        "  def feed_forward(self,input):\n",
        "     a = input\n",
        "     pre_activations = []\n",
        "     activations = [a]\n",
        "     z = np.dot(self.weights[0].T, input) + self.biases[0]\n",
        "     a = Softmax(z)\n",
        "     pre_activations.append(z)\n",
        "     activations.append(a)\n",
        "     return a ,pre_activations,activations\n",
        "\n",
        "  def compute_deltas(self, pre_activations, y_true, y_pred):\n",
        "      delta_L = (y_pred-y_true)\n",
        "      deltas = [0] * (len(self.sizes) - 1)\n",
        "      deltas[-1] = delta_L\n",
        "      return deltas\n",
        "  def backpropagate(self, deltas, pre_activations, activations):\n",
        "        dW = []\n",
        "        db = []\n",
        "        dW0_l = np.dot(deltas[0], activations[0].T).T\n",
        "        db0_l = deltas[0]\n",
        "        dW.append(dW0_l)\n",
        "        db.append(db0_l)\n",
        "        return dW, db\n",
        "  def train(self,alpha,dW,db):\n",
        "      for i in range(len(dW)):\n",
        "          self.weights[i] -= alpha*dW[i]\n",
        "      for i in range(len(db)):\n",
        "          self.biases[i] -= alpha*db[i]"
      ],
      "metadata": {
        "id": "HeuEQWnGpgA3"
      },
      "execution_count": 9,
      "outputs": []
    },
    {
      "cell_type": "code",
      "source": [
        "yte = []\n",
        "ytr = []\n",
        "nuenet1 = nn1([784,10])\n",
        "for _ in range(10):\n",
        "   for i in range(len(train_x)):\n",
        "       A0 = train_x[i].flatten().reshape((-1, 1))\n",
        "       A0 = A0 / 255\n",
        "       arr = nuenet1.feed_forward(A0)\n",
        "       yhat =  np.zeros((10, 1))\n",
        "       yhat[train_y[i]][0] = 1\n",
        "       deltas = nuenet1.compute_deltas(arr[1],yhat,arr[0])\n",
        "       dW, db = nuenet1.backpropagate(deltas,arr[1],arr[2])\n",
        "       nuenet1.train(0.01,dW,db)\n",
        "   yte.append(accuracy(test_x,test_y,nuenet1))\n",
        "   ytr.append(accuracy(train_x,train_y,nuenet1))\n",
        "   print(accuracy(test_x,test_y,nuenet1))\n",
        "   print('=============================')"
      ],
      "metadata": {
        "colab": {
          "base_uri": "https://localhost:8080/"
        },
        "id": "c-JqX_qPmk_6",
        "outputId": "c7c067ef-63de-4af6-ecf6-40fb19bc2024"
      },
      "execution_count": 10,
      "outputs": [
        {
          "output_type": "stream",
          "name": "stdout",
          "text": [
            "0.8698\n",
            "=============================\n",
            "0.8845\n",
            "=============================\n",
            "0.8908\n",
            "=============================\n",
            "0.8943\n",
            "=============================\n",
            "0.8983\n",
            "=============================\n",
            "0.9003\n",
            "=============================\n",
            "0.902\n",
            "=============================\n",
            "0.9033\n",
            "=============================\n",
            "0.9041\n",
            "=============================\n",
            "0.9047\n",
            "=============================\n"
          ]
        }
      ]
    },
    {
      "cell_type": "code",
      "source": [
        "x = np.arange(0, 10, 1)\n",
        "plt.plot(x, ytr,color='red')\n",
        "plt.plot(x, yte,color='blue')\n",
        "plt.show()"
      ],
      "metadata": {
        "colab": {
          "base_uri": "https://localhost:8080/",
          "height": 430
        },
        "id": "OK5I_UbvD9Qk",
        "outputId": "f1e809b4-1e1b-48a3-cad0-a0e6c7613c72"
      },
      "execution_count": 11,
      "outputs": [
        {
          "output_type": "display_data",
          "data": {
            "text/plain": [
              "<Figure size 640x480 with 1 Axes>"
            ],
            "image/png": "[encoded data removed]"
          },
          "metadata": {}
        }
      ]
    },
    {
      "cell_type": "code",
      "source": [
        "class nn2:\n",
        "  def __init__(self, sizes):\n",
        "    self.sizes = sizes\n",
        "    self.weights = [np.random.uniform(-2, 2,size=(sizes[i-1], sizes[i]))\n",
        "     for i in range(1, len(self.sizes))]\n",
        "    self.biases = [np.random.uniform(-2, 2,size=(sizes[i],1))\n",
        "     for i in range(1, len(self.sizes))]\n",
        "\n",
        "  def feed_forward(self,input):\n",
        "     a = input\n",
        "     pre_activations = []\n",
        "     activations = [a]\n",
        "     z = np.dot(self.weights[0].T, a) + self.biases[0]\n",
        "     a = Relu(z)\n",
        "     pre_activations.append(z)\n",
        "     activations.append(a)\n",
        "     z = np.dot(self.weights[1].T, a) + self.biases[1]\n",
        "     a = Softmax(z)\n",
        "     pre_activations.append(z)\n",
        "     activations.append(a)\n",
        "     return a ,pre_activations,activations\n",
        "\n",
        "  def compute_deltas(self, pre_activations, y_true, y_pred):\n",
        "      delta_L = (y_pred-y_true)\n",
        "      deltas = [0] * (len(self.sizes) - 1)\n",
        "      deltas[-1] = delta_L\n",
        "      for l in range(len(deltas) - 2, -1, -1):\n",
        "            delta = np.dot(self.weights[l + 1], deltas[l + 1]\n",
        "                           ) * Relu_deriv(pre_activations[l])\n",
        "            deltas[l] = delta\n",
        "      return deltas\n",
        "  def backpropagate(self, deltas, pre_activations, activations):\n",
        "        dW = []\n",
        "        db = []\n",
        "        dW0_l = np.dot(deltas[0], activations[0].T).T * Relu_deriv(pre_activations[0])\n",
        "        db0_l = deltas[0] * Relu_deriv(pre_activations[0])\n",
        "        dW.append(dW0_l)\n",
        "        db.append(db0_l)\n",
        "        dW1_l = np.dot(deltas[1], activations[1].T).T\n",
        "        db1_l = deltas[1]\n",
        "        dW.append(dW1_l)\n",
        "        db.append(db1_l)\n",
        "        return dW, db\n",
        "  def train(self,alpha,dW,db):\n",
        "      for i in range(len(dW)):\n",
        "          self.weights[i] -= alpha*dW[i]\n",
        "      for i in range(len(db)):\n",
        "          self.biases[i] -= alpha*db[i]"
      ],
      "metadata": {
        "id": "qcgUqtZgTGza"
      },
      "execution_count": 12,
      "outputs": []
    },
    {
      "cell_type": "code",
      "source": [
        "yte = []\n",
        "ytr = []\n",
        "nuenet2 = nn2([784,30,10])\n",
        "for _ in range(10):\n",
        "   for i in range(len(train_x)):\n",
        "       A0 = train_x[i].flatten().reshape((-1, 1))\n",
        "       A0 = A0 / 255\n",
        "       arr = nuenet2.feed_forward(A0)\n",
        "       yhat =  np.zeros((10, 1))\n",
        "       yhat[train_y[i]][0] = 1\n",
        "       deltas = nuenet2.compute_deltas(arr[1],yhat,arr[0])\n",
        "       dW, db = nuenet2.backpropagate(deltas,arr[1],arr[2])\n",
        "       nuenet2.train(0.0001,dW,db)\n",
        "   yte.append(accuracy(test_x,test_y,nuenet2))\n",
        "   ytr.append(accuracy(train_x,train_y,nuenet2))\n",
        "   print(accuracy(test_x,test_y,nuenet2))\n",
        "   print('=============================')"
      ],
      "metadata": {
        "colab": {
          "base_uri": "https://localhost:8080/"
        },
        "id": "ac3Za6fUWhtr",
        "outputId": "cb4915bf-4cce-4748-e479-292d8dc2f48f"
      },
      "execution_count": 16,
      "outputs": [
        {
          "output_type": "stream",
          "name": "stdout",
          "text": [
            "0.8671\n",
            "=============================\n",
            "0.8695\n",
            "=============================\n",
            "0.8702\n",
            "=============================\n",
            "0.8753\n",
            "=============================\n",
            "0.8809\n",
            "=============================\n",
            "0.8812\n",
            "=============================\n",
            "0.8826\n",
            "=============================\n",
            "0.8819\n",
            "=============================\n",
            "0.8835\n",
            "=============================\n",
            "0.8827\n",
            "=============================\n"
          ]
        }
      ]
    },
    {
      "cell_type": "code",
      "source": [
        "x = np.arange(0, 10, 1)\n",
        "plt.plot(x, ytr,color='red')\n",
        "plt.plot(x, yte,color='blue')\n",
        "plt.show()"
      ],
      "metadata": {
        "colab": {
          "base_uri": "https://localhost:8080/",
          "height": 431
        },
        "id": "1w-8ROsgnCVr",
        "outputId": "660eea46-c1e9-4add-ea35-41feb0701cd1"
      },
      "execution_count": 17,
      "outputs": [
        {
          "output_type": "display_data",
          "data": {
            "text/plain": [
              "<Figure size 640x480 with 1 Axes>"
            ],
            "image/png": "[encoded data removed]"
          },
          "metadata": {}
        }
      ]
    },
    {
      "cell_type": "code",
      "source": [
        "class nn3:\n",
        "  def __init__(self, sizes):\n",
        "    self.sizes = sizes\n",
        "    self.weights = [np.random.uniform(-2, 2,size=(sizes[i-1], sizes[i]))\n",
        "     for i in range(1, len(self.sizes))]\n",
        "    self.biases = [np.random.uniform(-2, 2,size=(sizes[i],1))\n",
        "     for i in range(1, len(self.sizes))]\n",
        "\n",
        "  def feed_forward(self,input):\n",
        "     a = input\n",
        "     pre_activations = []\n",
        "     activations = [a]\n",
        "     z = np.dot(self.weights[0].T, a) + self.biases[0]\n",
        "     a = Relu(z)\n",
        "     pre_activations.append(z)\n",
        "     activations.append(a)\n",
        "     z = np.dot(self.weights[1].T, a) + self.biases[1]\n",
        "     a = Sigmoid(z)\n",
        "     pre_activations.append(z)\n",
        "     activations.append(a)\n",
        "     z = np.dot(self.weights[2].T, a) + self.biases[2]\n",
        "     a = Softmax(z)\n",
        "     pre_activations.append(z)\n",
        "     activations.append(a)\n",
        "     return a ,pre_activations,activations\n",
        "\n",
        "  def compute_deltas(self, pre_activations, y_true, y_pred):\n",
        "      delta_L = (y_pred-y_true)\n",
        "      deltas = [0] * (len(self.sizes) - 1)\n",
        "      deltas[2] = delta_L\n",
        "      delta = np.dot(self.weights[2], deltas[2]\n",
        "                           ) * Sigmoid_deriv(pre_activations[1])\n",
        "      deltas[1] = delta\n",
        "      delta = np.dot(self.weights[1], deltas[1]\n",
        "                           ) * Relu_deriv(pre_activations[0])\n",
        "      deltas[0] = delta\n",
        "      return deltas\n",
        "  def backpropagate(self, deltas, pre_activations, activations):\n",
        "        dW = []\n",
        "        db = []\n",
        "        dW0_l = np.dot(deltas[0], activations[0].T).T * Relu_deriv(pre_activations[0])\n",
        "        db0_l = deltas[0] * Relu_deriv(pre_activations[0])\n",
        "        dW.append(dW0_l)\n",
        "        db.append(db0_l)\n",
        "        dW1_l = np.dot(deltas[1], activations[1].T).T* Sigmoid_deriv(pre_activations[1])\n",
        "        db1_l = deltas[1] * Sigmoid_deriv(pre_activations[1])\n",
        "        dW.append(dW1_l)\n",
        "        db.append(db1_l)\n",
        "        dW2_l = np.dot(deltas[2], activations[2].T).T\n",
        "        db2_l = deltas[2]\n",
        "        dW.append(dW2_l)\n",
        "        db.append(db2_l)\n",
        "        return dW, db\n",
        "  def train(self,alpha,dW,db):\n",
        "      for i in range(len(dW)):\n",
        "          self.weights[i] -= alpha*dW[i]\n",
        "      for i in range(len(db)):\n",
        "          self.biases[i] -= alpha*db[i]"
      ],
      "metadata": {
        "id": "HmYkSEd_Xcxo"
      },
      "execution_count": 18,
      "outputs": []
    },
    {
      "cell_type": "code",
      "source": [
        "yte = []\n",
        "ytr = []\n",
        "nuenet3 = nn3([784,30,10,10])\n",
        "for _ in range(10):\n",
        "   for i in range(len(train_x)):\n",
        "       A0 = train_x[i].flatten().reshape((-1, 1))\n",
        "       A0 = A0 / 255\n",
        "       arr = nuenet3.feed_forward(A0)\n",
        "       yhat =  np.zeros((10, 1))\n",
        "       yhat[train_y[i]][0] = 1\n",
        "       deltas = nuenet3.compute_deltas(arr[1],yhat,arr[0])\n",
        "       dW, db = nuenet3.backpropagate(deltas,arr[1],arr[2])\n",
        "       nuenet3.train(0.00001,dW,db)\n",
        "   yte.append(accuracy(test_x,test_y,nuenet3))\n",
        "   ytr.append(accuracy(train_x,train_y,nuenet3))\n",
        "   print(accuracy(test_x,test_y,nuenet3))\n",
        "   print('=============================')"
      ],
      "metadata": {
        "colab": {
          "base_uri": "https://localhost:8080/"
        },
        "id": "duN-z7cFaL9S",
        "outputId": "aa92ad87-e015-48c3-d11a-d75a378b3095"
      },
      "execution_count": 19,
      "outputs": [
        {
          "output_type": "stream",
          "name": "stderr",
          "text": [
            "<ipython-input-5-70f835a8c370>:2: RuntimeWarning: overflow encountered in exp\n",
            "  return 1/(1+np.exp(-x))\n"
          ]
        },
        {
          "output_type": "stream",
          "name": "stdout",
          "text": [
            "0.3859\n",
            "=============================\n",
            "0.4344\n",
            "=============================\n",
            "0.4318\n",
            "=============================\n",
            "0.4714\n",
            "=============================\n",
            "0.4758\n",
            "=============================\n",
            "0.5162\n",
            "=============================\n",
            "0.5153\n",
            "=============================\n",
            "0.5398\n",
            "=============================\n",
            "0.5411\n",
            "=============================\n",
            "0.588\n",
            "=============================\n"
          ]
        }
      ]
    },
    {
      "cell_type": "code",
      "source": [
        "x = np.arange(0, 10, 1)\n",
        "plt.plot(x, ytr,color='red')\n",
        "plt.plot(x, yte,color='blue')\n",
        "plt.show()"
      ],
      "metadata": {
        "colab": {
          "base_uri": "https://localhost:8080/",
          "height": 430
        },
        "id": "aRm0PwyopWaR",
        "outputId": "eac2fda8-1b49-4f3b-9e5c-b81d6eb0ef50"
      },
      "execution_count": 20,
      "outputs": [
        {
          "output_type": "display_data",
          "data": {
            "text/plain": [
              "<Figure size 640x480 with 1 Axes>"
            ],
            "image/png": "[encoded data removed]"
          },
          "metadata": {}
        }
      ]
    }
  ]
}