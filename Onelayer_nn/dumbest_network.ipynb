{
  "cells": [
    {
      "cell_type": "code",
      "execution_count": null,
      "metadata": {
        "id": "Z-8tknfv8oFp"
      },
      "outputs": [],
      "source": [
        "from keras.datasets import mnist\n",
        "import numpy as np\n",
        "import math"
      ]
    },
    {
      "cell_type": "code",
      "execution_count": null,
      "metadata": {
        "id": "hQXSI4vF8tEb"
      },
      "outputs": [],
      "source": [
        "def sigmoid(x):\n",
        "    return 1/(1+ math.exp(-x))"
      ]
    },
    {
      "cell_type": "code",
      "execution_count": null,
      "metadata": {
        "id": "KyqVwhGU8vae"
      },
      "outputs": [],
      "source": [
        "def init_randomly():\n",
        "    WT = np.random.uniform(-1, 1, size=(10, 784))\n",
        "    B = np.random.random_sample((10,1))\n",
        "    return WT,B"
      ]
    },
    {
      "cell_type": "code",
      "execution_count": null,
      "metadata": {
        "id": "b2GE-vTe8zUI"
      },
      "outputs": [],
      "source": [
        "def train(train_X,train_y,WT,B):\n",
        "    for i in range(len(train_X)):\n",
        "        # print(\"episode number: \"+ str(i))\n",
        "        A0 = train_X[i].flatten().reshape((-1, 1))\n",
        "        A0 = A0 / 255\n",
        "        A1 = np.vectorize(sigmoid)(np.matmul(WT,A0) + B)\n",
        "        yhat =  np.zeros((10, 1))\n",
        "        yhat[train_y[i]][0] = 1\n",
        "        cost = A1-yhat\n",
        "        activation_func_deriv = A1 - A1**2\n",
        "        r = 0.05\n",
        "        for j in range(10):\n",
        "            for k in range(784):\n",
        "                WT[j][k] = WT[j][k] - r * (A0[k]) * (activation_func_deriv[j]) * (cost[j])\n",
        "            B[j] = B[j] - r * (activation_func_deriv [j]) * (cost[j])\n",
        "    return WT,B"
      ]
    },
    {
      "cell_type": "code",
      "execution_count": null,
      "metadata": {
        "id": "kbpb3Z3982PT"
      },
      "outputs": [],
      "source": [
        "def model_accuracy(data_X,data_y,WT,B):\n",
        "    right_prediction = 0\n",
        "    for i in range(len(data_X)):\n",
        "        A0 = data_X[i].flatten().reshape((-1, 1))\n",
        "        A0 = A0 / 255\n",
        "        A1 = np.vectorize(sigmoid)(np.matmul(WT,A0) + B)\n",
        "        predicted_index = np.argmax(A1)\n",
        "        # print(\"label: \" + str(test_y[i]) + \"=========> \" + \"predicted_index: \"+ str(predicted_index))\n",
        "        if data_y[i] == predicted_index :\n",
        "           right_prediction = right_prediction + 1\n",
        "    return (right_prediction/len(data_X))*100"
      ]
    },
    {
      "cell_type": "code",
      "execution_count": null,
      "metadata": {
        "colab": {
          "background_save": true
        },
        "id": "JVt-QcGP84s0",
        "outputId": "a00c20e4-f010-49d1-9713-4a1d5f95e5e4"
      },
      "outputs": [
        {
          "name": "stdout",
          "output_type": "stream",
          "text": [
            "train_data_acc = 80.08999999999999\n",
            "test_data_acc = 80.42\n"
          ]
        }
      ],
      "source": [
        "(train_X, train_y), (test_X, test_y) = mnist.load_data()\n",
        "WT,B = init_randomly()\n",
        "WT,B = train(train_X,train_y,WT,B)\n",
        "train_data_acc = model_accuracy(train_X, train_y,WT,B)\n",
        "test_data_acc = model_accuracy(test_X, test_y,WT,B)\n",
        "print(\"train_data_acc = \" + str(train_data_acc))\n",
        "print(\"test_data_acc = \" + str(test_data_acc))"
      ]
    }
  ],
  "metadata": {
    "colab": {
      "provenance": []
    },
    "kernelspec": {
      "display_name": "Python 3",
      "name": "python3"
    },
    "language_info": {
      "name": "python"
    }
  },
  "nbformat": 4,
  "nbformat_minor": 0
}