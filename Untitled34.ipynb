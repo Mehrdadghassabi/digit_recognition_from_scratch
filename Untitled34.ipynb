{
  "nbformat": 4,
  "nbformat_minor": 0,
  "metadata": {
    "colab": {
      "provenance": []
    },
    "kernelspec": {
      "name": "python3",
      "display_name": "Python 3"
    },
    "language_info": {
      "name": "python"
    }
  },
  "cells": [
    {
      "cell_type": "code",
      "execution_count": 22,
      "metadata": {
        "id": "4C2VuF0W699y"
      },
      "outputs": [],
      "source": [
        "from keras.datasets import mnist\n",
        "import matplotlib.pyplot as plt\n",
        "import numpy as np\n",
        "from scipy import signal\n",
        "import cv2\n",
        "import math"
      ]
    },
    {
      "cell_type": "code",
      "source": [
        "def resize_image(newXsize,newYsize,train_X,test_X):\n",
        "    resized_images_train = []\n",
        "    resized_images_test = []\n",
        "\n",
        "    for image in train_X:\n",
        "        resized_image = cv2.resize(image, (newXsize, newYsize))\n",
        "        resized_images_train.append(resized_image)\n",
        "\n",
        "    for image in test_X:\n",
        "        resized_image = cv2.resize(image, (newXsize, newYsize))\n",
        "        resized_images_test.append(resized_image)\n",
        "\n",
        "    return (np.array(resized_images_train),np.array(resized_images_test))"
      ],
      "metadata": {
        "id": "d_bCoyvEkQYC"
      },
      "execution_count": 23,
      "outputs": []
    },
    {
      "cell_type": "code",
      "source": [
        "(train_X, train_y), (test_X, test_y) = mnist.load_data()\n",
        "train_X,test_X = resize_image(32,32,train_X,test_X)"
      ],
      "metadata": {
        "id": "LELcqQqeBXQH"
      },
      "execution_count": 7,
      "outputs": []
    },
    {
      "cell_type": "code",
      "source": [
        "def sigmoid(x):\n",
        "    return 1/(1+ math.exp(-x))"
      ],
      "metadata": {
        "id": "fi5FYszrFo2P"
      },
      "execution_count": 71,
      "outputs": []
    },
    {
      "cell_type": "code",
      "source": [
        "W = np.random.random_sample((1024,10))\n",
        "WT = np.transpose(W)\n",
        "B = np.random.random_sample((10,1))\n",
        "A0 = train_X[0].flatten().reshape((-1, 1))\n",
        "A0 = A0 / 255\n",
        "A1 = (np.matmul(WT,A0) + B)\n",
        "# A1 = np.vectorize(sigmoid)(np.matmul(WT,A0) + B)\n",
        "print(A1)"
      ],
      "metadata": {
        "colab": {
          "base_uri": "https://localhost:8080/"
        },
        "id": "HGItCGDO59ZS",
        "outputId": "b20e31ec-b9a6-4fc3-b83e-a81dc612d3ab"
      },
      "execution_count": 74,
      "outputs": [
        {
          "output_type": "stream",
          "name": "stdout",
          "text": [
            "[[72.12748009]\n",
            " [69.79931549]\n",
            " [70.03246862]\n",
            " [69.99569051]\n",
            " [70.90863737]\n",
            " [71.27335815]\n",
            " [71.4827657 ]\n",
            " [76.2058381 ]\n",
            " [72.93475789]\n",
            " [71.14201561]]\n"
          ]
        }
      ]
    },
    {
      "cell_type": "code",
      "source": [
        "plt.imshow(train_X[450],cmap=\"gray\")"
      ],
      "metadata": {
        "colab": {
          "base_uri": "https://localhost:8080/",
          "height": 447
        },
        "id": "-XLREEbqLE2E",
        "outputId": "f97d7218-2b57-4ee5-df29-54607b814776"
      },
      "execution_count": 70,
      "outputs": [
        {
          "output_type": "execute_result",
          "data": {
            "text/plain": [
              "<matplotlib.image.AxesImage at 0x7ec72e3c5e10>"
            ]
          },
          "metadata": {},
          "execution_count": 70
        },
        {
          "output_type": "display_data",
          "data": {
            "text/plain": [
              "<Figure size 640x480 with 1 Axes>"
            ],
            "image/png": "[encoded data removed]"
          },
          "metadata": {}
        }
      ]
    }
  ]
}